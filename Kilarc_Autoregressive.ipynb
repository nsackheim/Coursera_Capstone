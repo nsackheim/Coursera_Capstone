{
  "nbformat": 4,
  "nbformat_minor": 0,
  "metadata": {
    "colab": {
      "name": "Kilarc Autoregressive",
      "provenance": [],
      "authorship_tag": "ABX9TyMlZUtBcsNJGsWo611qeKjK",
      "include_colab_link": true
    },
    "kernelspec": {
      "name": "python3",
      "display_name": "Python 3"
    }
  },
  "cells": [
    {
      "cell_type": "markdown",
      "metadata": {
        "id": "view-in-github",
        "colab_type": "text"
      },
      "source": [
        "<a href=\"https://colab.research.google.com/github/nsackheim/Coursera_Capstone/blob/master/Kilarc_Autoregressive.ipynb\" target=\"_parent\"><img src=\"https://colab.research.google.com/assets/colab-badge.svg\" alt=\"Open In Colab\"/></a>"
      ]
    },
    {
      "cell_type": "code",
      "metadata": {
        "id": "LtEn7wEW_M8I"
      },
      "source": [
        "from time import time\r\n",
        "import numpy as np\r\n",
        "import matplotlib.pyplot as plt\r\n",
        "import torch\r\n",
        "import torch.nn as nn"
      ],
      "execution_count": 3,
      "outputs": []
    },
    {
      "cell_type": "code",
      "metadata": {
        "id": "eWCGYu36nH9J",
        "colab": {
          "resources": {
            "http://localhost:8080/nbextensions/google.colab/files.js": {
              "data": "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",
              "ok": true,
              "headers": [
                [
                  "content-type",
                  "application/javascript"
                ]
              ],
              "status": 200,
              "status_text": ""
            }
          },
          "base_uri": "https://localhost:8080/",
          "height": 73
        },
        "outputId": "e422482d-7881-4c0d-df56-eb3c7c29acc4"
      },
      "source": [
        "#@title File upload\r\n",
        "# Upload a file to the local directory\r\n",
        "from google.colab import files\r\n",
        "uploaded = files.upload()"
      ],
      "execution_count": 4,
      "outputs": [
        {
          "output_type": "display_data",
          "data": {
            "text/html": [
              "\n",
              "     <input type=\"file\" id=\"files-22f59ed0-9556-4b5c-bd35-89826ef544b9\" name=\"files[]\" multiple disabled\n",
              "        style=\"border:none\" />\n",
              "     <output id=\"result-22f59ed0-9556-4b5c-bd35-89826ef544b9\">\n",
              "      Upload widget is only available when the cell has been executed in the\n",
              "      current browser session. Please rerun this cell to enable.\n",
              "      </output>\n",
              "      <script src=\"/nbextensions/google.colab/files.js\"></script> "
            ],
            "text/plain": [
              "<IPython.core.display.HTML object>"
            ]
          },
          "metadata": {
            "tags": []
          }
        },
        {
          "output_type": "stream",
          "text": [
            "Saving 8-16-probably_2016_datat _CSV.csv to 8-16-probably_2016_datat _CSV.csv\n"
          ],
          "name": "stdout"
        }
      ]
    },
    {
      "cell_type": "code",
      "metadata": {
        "id": "oET8DGjKmcNV",
        "colab": {
          "base_uri": "https://localhost:8080/",
          "height": 282
        },
        "outputId": "3dc2d83a-9771-46a8-83d3-4ba9178708d9"
      },
      "source": [
        "#@title Retrieve temperature data\r\n",
        "import pandas as pd\r\n",
        "from sklearn.preprocessing import StandardScaler\r\n",
        "\r\n",
        "def get_data(N=0,standardize=False,daily=False):\r\n",
        "  df = pd.read_csv('8-16-probably_2016_datat _CSV.csv', error_bad_lines=False)\r\n",
        "  if N == 0:\r\n",
        "    N = len(df)\r\n",
        "  X = np.arange(N)\r\n",
        "  Y = np.array(df['59'][:N])\r\n",
        "\r\n",
        "  if standardize:\r\n",
        "    X,Y = X.reshape(-1,1), Y.reshape(-1,1)\r\n",
        "    scaler = StandardScaler()\r\n",
        "    X,Y = scaler.fit_transform(X), scaler.fit_transform(Y)\r\n",
        "    global mu,var\r\n",
        "    mu,var = scaler.mean_,scaler.var_\r\n",
        "\r\n",
        "  if daily:\r\n",
        "    n_days = len(X)//24\r\n",
        "\r\n",
        "    X_daily = np.arange(n_days)\r\n",
        "    Y_daily = np.zeros(n_days)\r\n",
        "\r\n",
        "    for i in range(n_days):\r\n",
        "      Y_daily[i] = np.mean(Y[24*i:24*(i+1)])\r\n",
        "\r\n",
        "    X,Y = X_daily, Y_daily\r\n",
        "\r\n",
        "  X,Y = X.reshape(-1,1), Y.reshape(-1,1)\r\n",
        "  return X,Y\r\n",
        "\r\n",
        "#Retrieve and plot data\r\n",
        "Xt,Yt = get_data(925, standardize=True)\r\n",
        "plt.scatter(Xt,Yt)"
      ],
      "execution_count": 41,
      "outputs": [
        {
          "output_type": "execute_result",
          "data": {
            "text/plain": [
              "<matplotlib.collections.PathCollection at 0x7fb1ce85ec10>"
            ]
          },
          "metadata": {
            "tags": []
          },
          "execution_count": 41
        },
        {
          "output_type": "display_data",
          "data": {
            "image/png": "[encoded data removed]",
            "text/plain": [
              "<Figure size 432x288 with 1 Axes>"
            ]
          },
          "metadata": {
            "tags": [],
            "needs_background": "light"
          }
        }
      ]
    },
    {
      "cell_type": "code",
      "metadata": {
        "id": "CJJiMU9SHTWi"
      },
      "source": [
        "### build the dataset\n",
        "# let's see if we can use T past values to predict the next value\n",
        "\n",
        "def T_data(T,X=Xt,Y=Yt):\n",
        "    X_T = []\n",
        "    Y_T = [] \n",
        "    for t in range(len(X) - T+1):\n",
        "      x_T = Xt[t:t+T]\n",
        "      X_T.append(x_T)\n",
        "      y_T = Yt[t+T]\n",
        "      Y_T.append(y_T)\n",
        "\n",
        "    X,Y = np.array(X_T).reshape(-1,T), np.array(Y_T).reshape(-1,1)\n",
        "    return X,Y\n",
        "\n",
        "X,Y = T_data(10)"
      ],
      "execution_count": 38,
      "outputs": []
    },
    {
      "cell_type": "code",
      "metadata": {
        "colab": {
          "base_uri": "https://localhost:8080/",
          "height": 265
        },
        "id": "l0KZV7yYuaZZ",
        "outputId": "afb50108-992c-4e8d-afca-655ff5041b63"
      },
      "source": [
        "#@title Train/test data split\r\n",
        "from sklearn.model_selection import train_test_split\r\n",
        "\r\n",
        "def data_split(Xt,Yt,X,Y,test_size=0.33,random_state=None):\r\n",
        "    Xt_train, Xt_test, Yt_train, Yt_test = train_test_split(Xt, Yt, test_size=test_size, random_state=random_state)\r\n",
        "    X_train, X_test, Y_train, Y_test = train_test_split(X, Y, test_size=test_size, random_state=random_state)\r\n",
        "\r\n",
        "    plt.scatter(Xt_train,Yt_train,color='blue',label='Train data')\r\n",
        "    plt.scatter(Xt_test,Yt_test,color='red',label='Test data')\r\n",
        "    plt.legend(); plt.show()\r\n",
        "\r\n",
        "    return Xt_train, Xt_test, Yt_train, Yt_test, X_train, X_test, Y_train, Y_test\r\n",
        "\r\n",
        "Xt_train, Xt_test, Yt_train, Yt_test, X_train, X_test, Y_train, Y_test = data_split(Xt,Yt,X,Y, test_size=0.997)"
      ],
      "execution_count": 32,
      "outputs": [
        {
          "output_type": "display_data",
          "data": {
            "image/png": "[encoded data removed]",
            "text/plain": [
              "<Figure size 432x288 with 1 Axes>"
            ]
          },
          "metadata": {
            "tags": [],
            "needs_background": "light"
          }
        }
      ]
    },
    {
      "cell_type": "code",
      "metadata": {
        "id": "2SYW1MXeeu7j"
      },
      "source": [
        "#@title Initialize model function\r\n",
        "m1,m2,m3 = 128,16,128\r\n",
        "def init_model(TT,m1,m2,m3):\r\n",
        "  global model, criterion, optimizer\r\n",
        "  model = nn.Sequential(\r\n",
        "    nn.Linear(TT, m1),\r\n",
        "    nn.ReLU(),\r\n",
        "#    nn.Linear(m1, m2),\r\n",
        "#    nn.ReLU(),\r\n",
        "#    nn.Linear(m2, m3),\r\n",
        "#    nn.ReLU(),\r\n",
        "    nn.Linear(m3, 1)\r\n",
        ")\r\n",
        "  criterion = nn.MSELoss()\r\n",
        "  optimizer = torch.optim.Adam(model.parameters())"
      ],
      "execution_count": 8,
      "outputs": []
    },
    {
      "cell_type": "code",
      "metadata": {
        "id": "JMPq144DuSBL"
      },
      "source": [
        "#@title Full gradient descent train function\n",
        "def full_gd(model, criterion, optimizer, X_train, Y_train, X_test,Y_test, n_epochs=1000):\n",
        "  X_train = torch.from_numpy(X_train.astype(np.float32))\n",
        "  Y_train = torch.from_numpy(Y_train.astype(np.float32).reshape(-1, 1))\n",
        "\n",
        "  X_test = torch.from_numpy(X_test.astype(np.float32))\n",
        "  Y_test = torch.from_numpy(Y_test.astype(np.float32).reshape(-1, 1))  \n",
        "  \n",
        "  # Stuff to store\n",
        "  train_losses = np.zeros(n_epochs)\n",
        "  test_losses = np.zeros(n_epochs)\n",
        "\n",
        "  for it in range(n_epochs):\n",
        "    # zero the parameter gradients\n",
        "    optimizer.zero_grad()\n",
        "\n",
        "    # Forward pass\n",
        "    train_outputs = model(X_train)\n",
        "    train_loss = criterion(train_outputs, Y_train)\n",
        "\n",
        "    test_outputs = model(X_test)\n",
        "    test_loss = criterion(test_outputs, Y_test)\n",
        "\n",
        "    # Backward and optimize\n",
        "    test_loss.backward()\n",
        "    optimizer.step()\n",
        "\n",
        "    # Save losses\n",
        "    train_losses[it] = train_loss.item()\n",
        "    test_losses[it] = test_loss.item()\n",
        "\n",
        "    ##if (it + 1) % 50 == 0:\n",
        "      ## print(f'Epoch {it+1}/{n_epochs}, Train_Loss: {train_loss.item():.4f}, Test_Loss: {train_loss.item():.4f}')\n",
        "      ## Plot the loss per iteration\n",
        "  #plt.plot(train_losses,'b-',label='Train losses')\n",
        "  #plt.plot(test_losses,'r-',label='Test losses'); plt.legend(); plt.show()\n",
        "  print(f'Epoch {n_epochs}/{n_epochs}, Train_Loss: {train_loss.item():.4f}, Test_Loss: {test_loss.item():.4f}, Loss_Ratio: {test_loss.item()/train_loss.item():.4f}')\n",
        "\n",
        "  return train_loss.item(), test_loss.item()"
      ],
      "execution_count": 9,
      "outputs": []
    },
    {
      "cell_type": "code",
      "metadata": {
        "id": "tCJX2nWPydNV"
      },
      "source": [
        "#@title Training run function\r\n",
        "def run_training(n_epochs):\r\n",
        "  t_i = time()\r\n",
        "\r\n",
        "  #global model, criterion, optimizer\r\n",
        "  init_model(T,128,1,128)\r\n",
        "  train_loss, test_loss = full_gd(model, criterion, optimizer, X_train, Y_train, X_test,Y_test,n_epochs=n_epochs)\r\n",
        "\r\n",
        "  t_f = time()\r\n",
        "  run_time = t_f-t_i; print(f'run time = {run_time}')\r\n",
        "  return train_loss, test_loss\r\n",
        "\r\n",
        "#run_training(1000);"
      ],
      "execution_count": 17,
      "outputs": []
    },
    {
      "cell_type": "code",
      "metadata": {
        "id": "8SJPDxdQwAL-"
      },
      "source": [
        "#@title Plot the fitted predictions\r\n",
        "\r\n",
        "def plot_regression():\r\n",
        "  plt.scatter(Xt, Yt, label='Original data')\r\n",
        "\r\n",
        "  inputs = torch.from_numpy(X.astype(np.float32))\r\n",
        "  predicted = model(inputs).detach().numpy()\r\n",
        "\r\n",
        "  plt.plot(Xt[:-T], predicted, 'r-',label='Regression Curve'); plt.legend()\r\n",
        "  plt.show()\r\n",
        "\r\n",
        "#plot_regression()"
      ],
      "execution_count": 12,
      "outputs": []
    },
    {
      "cell_type": "code",
      "metadata": {
        "colab": {
          "base_uri": "https://localhost:8080/",
          "height": 363
        },
        "id": "kTl-eKOFS6Sk",
        "outputId": "ca33d739-cbaf-4fd9-88a4-16fb96b6d46d"
      },
      "source": [
        "T = 1\r\n",
        "Xt,Yt = get_data(4, standardize=True) # N = 925\r\n",
        "print(X.shape,Y.shape,Xt.shape,Yt.shape)\r\n",
        "X,Y = T_data(T)\r\n",
        "Xt_train, Xt_test, Yt_train, Yt_test, X_train, X_test, Y_train, Y_test = data_split(Xt,Yt,X,Y,test_size=0.5,random_state=24)\r\n",
        "\r\n",
        "run_training(2000)\r\n",
        "plot_regression()"
      ],
      "execution_count": 42,
      "outputs": [
        {
          "output_type": "stream",
          "text": [
            "(0, 10) (0, 1) (4, 1) (4, 1)\n"
          ],
          "name": "stdout"
        },
        {
          "output_type": "error",
          "ename": "IndexError",
          "evalue": "ignored",
          "traceback": [
            "\u001b[0;31m---------------------------------------------------------------------------\u001b[0m",
            "\u001b[0;31mIndexError\u001b[0m                                Traceback (most recent call last)",
            "\u001b[0;32m<ipython-input-42-eec51893402b>\u001b[0m in \u001b[0;36m<module>\u001b[0;34m()\u001b[0m\n\u001b[1;32m      2\u001b[0m \u001b[0mXt\u001b[0m\u001b[0;34m,\u001b[0m\u001b[0mYt\u001b[0m \u001b[0;34m=\u001b[0m \u001b[0mget_data\u001b[0m\u001b[0;34m(\u001b[0m\u001b[0;36m4\u001b[0m\u001b[0;34m,\u001b[0m \u001b[0mstandardize\u001b[0m\u001b[0;34m=\u001b[0m\u001b[0;32mTrue\u001b[0m\u001b[0;34m)\u001b[0m \u001b[0;31m# N = 925\u001b[0m\u001b[0;34m\u001b[0m\u001b[0;34m\u001b[0m\u001b[0m\n\u001b[1;32m      3\u001b[0m \u001b[0mprint\u001b[0m\u001b[0;34m(\u001b[0m\u001b[0mX\u001b[0m\u001b[0;34m.\u001b[0m\u001b[0mshape\u001b[0m\u001b[0;34m,\u001b[0m\u001b[0mY\u001b[0m\u001b[0;34m.\u001b[0m\u001b[0mshape\u001b[0m\u001b[0;34m,\u001b[0m\u001b[0mXt\u001b[0m\u001b[0;34m.\u001b[0m\u001b[0mshape\u001b[0m\u001b[0;34m,\u001b[0m\u001b[0mYt\u001b[0m\u001b[0;34m.\u001b[0m\u001b[0mshape\u001b[0m\u001b[0;34m)\u001b[0m\u001b[0;34m\u001b[0m\u001b[0;34m\u001b[0m\u001b[0m\n\u001b[0;32m----> 4\u001b[0;31m \u001b[0mX\u001b[0m\u001b[0;34m,\u001b[0m\u001b[0mY\u001b[0m \u001b[0;34m=\u001b[0m \u001b[0mT_data\u001b[0m\u001b[0;34m(\u001b[0m\u001b[0mT\u001b[0m\u001b[0;34m)\u001b[0m\u001b[0;34m\u001b[0m\u001b[0;34m\u001b[0m\u001b[0m\n\u001b[0m\u001b[1;32m      5\u001b[0m \u001b[0mXt_train\u001b[0m\u001b[0;34m,\u001b[0m \u001b[0mXt_test\u001b[0m\u001b[0;34m,\u001b[0m \u001b[0mYt_train\u001b[0m\u001b[0;34m,\u001b[0m \u001b[0mYt_test\u001b[0m\u001b[0;34m,\u001b[0m \u001b[0mX_train\u001b[0m\u001b[0;34m,\u001b[0m \u001b[0mX_test\u001b[0m\u001b[0;34m,\u001b[0m \u001b[0mY_train\u001b[0m\u001b[0;34m,\u001b[0m \u001b[0mY_test\u001b[0m \u001b[0;34m=\u001b[0m \u001b[0mdata_split\u001b[0m\u001b[0;34m(\u001b[0m\u001b[0mXt\u001b[0m\u001b[0;34m,\u001b[0m\u001b[0mYt\u001b[0m\u001b[0;34m,\u001b[0m\u001b[0mX\u001b[0m\u001b[0;34m,\u001b[0m\u001b[0mY\u001b[0m\u001b[0;34m,\u001b[0m\u001b[0mtest_size\u001b[0m\u001b[0;34m=\u001b[0m\u001b[0;36m0.5\u001b[0m\u001b[0;34m,\u001b[0m\u001b[0mrandom_state\u001b[0m\u001b[0;34m=\u001b[0m\u001b[0;36m24\u001b[0m\u001b[0;34m)\u001b[0m\u001b[0;34m\u001b[0m\u001b[0;34m\u001b[0m\u001b[0m\n\u001b[1;32m      6\u001b[0m \u001b[0;34m\u001b[0m\u001b[0m\n",
            "\u001b[0;32m<ipython-input-38-23e6a07b26ea>\u001b[0m in \u001b[0;36mT_data\u001b[0;34m(T, X, Y)\u001b[0m\n\u001b[1;32m      8\u001b[0m       \u001b[0mx_T\u001b[0m \u001b[0;34m=\u001b[0m \u001b[0mXt\u001b[0m\u001b[0;34m[\u001b[0m\u001b[0mt\u001b[0m\u001b[0;34m:\u001b[0m\u001b[0mt\u001b[0m\u001b[0;34m+\u001b[0m\u001b[0mT\u001b[0m\u001b[0;34m]\u001b[0m\u001b[0;34m\u001b[0m\u001b[0;34m\u001b[0m\u001b[0m\n\u001b[1;32m      9\u001b[0m       \u001b[0mX_T\u001b[0m\u001b[0;34m.\u001b[0m\u001b[0mappend\u001b[0m\u001b[0;34m(\u001b[0m\u001b[0mx_T\u001b[0m\u001b[0;34m)\u001b[0m\u001b[0;34m\u001b[0m\u001b[0;34m\u001b[0m\u001b[0m\n\u001b[0;32m---> 10\u001b[0;31m       \u001b[0my_T\u001b[0m \u001b[0;34m=\u001b[0m \u001b[0mYt\u001b[0m\u001b[0;34m[\u001b[0m\u001b[0mt\u001b[0m\u001b[0;34m+\u001b[0m\u001b[0mT\u001b[0m\u001b[0;34m]\u001b[0m\u001b[0;34m\u001b[0m\u001b[0;34m\u001b[0m\u001b[0m\n\u001b[0m\u001b[1;32m     11\u001b[0m       \u001b[0mY_T\u001b[0m\u001b[0;34m.\u001b[0m\u001b[0mappend\u001b[0m\u001b[0;34m(\u001b[0m\u001b[0my_T\u001b[0m\u001b[0;34m)\u001b[0m\u001b[0;34m\u001b[0m\u001b[0;34m\u001b[0m\u001b[0m\n\u001b[1;32m     12\u001b[0m \u001b[0;34m\u001b[0m\u001b[0m\n",
            "\u001b[0;31mIndexError\u001b[0m: index 4 is out of bounds for axis 0 with size 4"
          ]
        }
      ]
    },
    {
      "cell_type": "code",
      "metadata": {
        "colab": {
          "base_uri": "https://localhost:8080/"
        },
        "id": "wgnevYzZbxWA",
        "outputId": "c73fb344-e556-4844-c13e-5e492cb092cc"
      },
      "source": [
        "  T = 10\r\n",
        "  Xt,Yt = get_data(925, standardize=True)\r\n",
        "  X,Y = T_data(10)\r\n",
        "\r\n",
        "  final_train_losses = []\r\n",
        "  final_test_losses = []\r\n",
        "  final_losses = []\r\n",
        "  loss_ratios = []\r\n",
        "\r\n",
        "for i in range(10):\r\n",
        "    Xt_train, Xt_test, Yt_train, Yt_test, X_train, X_test, Y_train, Y_test = data_split(Xt,Yt,X,Y,test_size=0.98)\r\n",
        "    final_train_loss,final_test_loss = run_training(2000)\r\n",
        "    final_train_losses.append(final_train_loss);final_test_losses.append(final_test_loss)\r\n",
        "    final_losses.append([final_train_loss,final_test_loss])\r\n",
        "    loss_ratios.append([final_test_loss/final_train_loss])\r\n",
        "    #plot_regression()\r\n",
        "\r\n",
        "loss_ratios = np.array(loss_ratios)\r\n",
        "print(np.mean(loss_ratios),np.var(loss_ratios))\r\n",
        "print(loss_ratios)"
      ],
      "execution_count": 24,
      "outputs": [
        {
          "output_type": "stream",
          "text": [
            "Epoch 2000/2000, Train_Loss: 1.1703, Test_Loss: 0.7300, Loss_Ratio: 0.6238\n",
            "run time = 2.7644572257995605\n",
            "Epoch 2000/2000, Train_Loss: 0.7104, Test_Loss: 0.7202, Loss_Ratio: 1.0138\n",
            "run time = 2.738389492034912\n",
            "Epoch 2000/2000, Train_Loss: 0.9978, Test_Loss: 0.7233, Loss_Ratio: 0.7249\n",
            "run time = 2.7664005756378174\n",
            "Epoch 2000/2000, Train_Loss: 1.0383, Test_Loss: 0.7203, Loss_Ratio: 0.6937\n",
            "run time = 2.701023817062378\n",
            "Epoch 2000/2000, Train_Loss: 0.5521, Test_Loss: 0.7408, Loss_Ratio: 1.3418\n",
            "run time = 2.778383493423462\n",
            "Epoch 2000/2000, Train_Loss: 0.5489, Test_Loss: 0.7256, Loss_Ratio: 1.3220\n",
            "run time = 2.839808225631714\n",
            "Epoch 2000/2000, Train_Loss: 0.7647, Test_Loss: 0.7318, Loss_Ratio: 0.9570\n",
            "run time = 2.8086626529693604\n",
            "Epoch 2000/2000, Train_Loss: 0.4402, Test_Loss: 0.7289, Loss_Ratio: 1.6557\n",
            "run time = 2.8350718021392822\n",
            "Epoch 2000/2000, Train_Loss: 0.7870, Test_Loss: 0.7313, Loss_Ratio: 0.9292\n",
            "run time = 2.8284552097320557\n",
            "Epoch 2000/2000, Train_Loss: 1.2460, Test_Loss: 0.7120, Loss_Ratio: 0.5714\n",
            "run time = 2.8358020782470703\n",
            "0.9833348251039931 0.11494064208196197\n",
            "[[0.6237906 ]\n",
            " [1.01381588]\n",
            " [0.72493727]\n",
            " [0.69371527]\n",
            " [1.34177959]\n",
            " [1.32195432]\n",
            " [0.95700794]\n",
            " [1.65573169]\n",
            " [0.92918891]\n",
            " [0.57142676]]\n"
          ],
          "name": "stdout"
        }
      ]
    },
    {
      "cell_type": "code",
      "metadata": {
        "colab": {
          "base_uri": "https://localhost:8080/"
        },
        "id": "XS86tSoyirUc",
        "outputId": "b23a9bc2-b91a-4614-c0ed-98aca2e80df7"
      },
      "source": [
        "  T = 10\r\n",
        "  Xt,Yt = get_data(925, standardize=True)\r\n",
        "  X,Y = T_data(10)\r\n",
        "\r\n",
        "  final_train_losses = []\r\n",
        "  final_test_losses = []\r\n",
        "  final_losses = []\r\n",
        "  loss_ratios = []\r\n",
        "\r\n",
        "for i in range(10):\r\n",
        "    Xt_train, Xt_test, Yt_train, Yt_test, X_train, X_test, Y_train, Y_test = data_split(Xt,Yt,X,Y,test_size=0.50)\r\n",
        "    final_train_loss,final_test_loss = run_training(2000)\r\n",
        "    final_train_losses.append(final_train_loss);final_test_losses.append(final_test_loss)\r\n",
        "    final_losses.append([final_train_loss,final_test_loss])\r\n",
        "    loss_ratios.append([final_test_loss/final_train_loss])\r\n",
        "    #plot_regression()\r\n",
        "\r\n",
        "loss_ratios = np.array(loss_ratios)\r\n",
        "print(np.mean(loss_ratios),np.var(loss_ratios))\r\n",
        "print(loss_ratios)"
      ],
      "execution_count": 23,
      "outputs": [
        {
          "output_type": "stream",
          "text": [
            "Epoch 2000/2000, Train_Loss: 0.7471, Test_Loss: 0.7416, Loss_Ratio: 0.9927\n",
            "run time = 1.9750392436981201\n",
            "Epoch 2000/2000, Train_Loss: 0.8171, Test_Loss: 0.7223, Loss_Ratio: 0.8839\n",
            "run time = 2.0159497261047363\n",
            "Epoch 2000/2000, Train_Loss: 0.7660, Test_Loss: 0.7092, Loss_Ratio: 0.9258\n",
            "run time = 2.008222818374634\n",
            "Epoch 2000/2000, Train_Loss: 0.8206, Test_Loss: 0.7275, Loss_Ratio: 0.8865\n",
            "run time = 2.0450804233551025\n",
            "Epoch 2000/2000, Train_Loss: 0.7917, Test_Loss: 0.6804, Loss_Ratio: 0.8594\n",
            "run time = 1.960791826248169\n",
            "Epoch 2000/2000, Train_Loss: 0.7560, Test_Loss: 0.6962, Loss_Ratio: 0.9209\n",
            "run time = 2.0239648818969727\n",
            "Epoch 2000/2000, Train_Loss: 0.7364, Test_Loss: 0.7446, Loss_Ratio: 1.0112\n",
            "run time = 2.0545389652252197\n",
            "Epoch 2000/2000, Train_Loss: 0.7408, Test_Loss: 0.7290, Loss_Ratio: 0.9841\n",
            "run time = 1.9680182933807373\n",
            "Epoch 2000/2000, Train_Loss: 0.8034, Test_Loss: 0.6781, Loss_Ratio: 0.8441\n",
            "run time = 1.9902632236480713\n",
            "Epoch 2000/2000, Train_Loss: 0.7451, Test_Loss: 0.7043, Loss_Ratio: 0.9452\n",
            "run time = 2.0667757987976074\n",
            "0.9253826193362163 0.002994061112361712\n",
            "[[0.99267199]\n",
            " [0.88394907]\n",
            " [0.92578639]\n",
            " [0.88649058]\n",
            " [0.85944278]\n",
            " [0.9208887 ]\n",
            " [1.01118546]\n",
            " [0.98414022]\n",
            " [0.84409023]\n",
            " [0.94518077]]\n"
          ],
          "name": "stdout"
        }
      ]
    },
    {
      "cell_type": "code",
      "metadata": {
        "id": "TH4BXMjzeOpC"
      },
      "source": [
        ""
      ],
      "execution_count": null,
      "outputs": []
    }
  ]
}